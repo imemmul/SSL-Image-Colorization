{
 "cells": [
  {
   "cell_type": "code",
   "execution_count": 31,
   "metadata": {},
   "outputs": [],
   "source": [
    "import numpy as np\n",
    "from skimage import color\n",
    "import cv2\n",
    "dataset_dir = \"/home/emir/Desktop/dev/myResearch/dataset/colorization_lab.npy\"\n",
    "dataset_dir_grayscale  = \"/home/emir/Desktop/dev/myResearch/dataset/l/gray_scale.npy\""
   ]
  },
  {
   "cell_type": "code",
   "execution_count": 32,
   "metadata": {},
   "outputs": [],
   "source": [
    "img_lab = np.load(dataset_dir)\n",
    "img_gray = np.load(dataset_dir_grayscale)"
   ]
  },
  {
   "cell_type": "code",
   "execution_count": 33,
   "metadata": {},
   "outputs": [
    {
     "data": {
      "text/plain": [
       "((25000, 224, 224, 2), (25000, 224, 224))"
      ]
     },
     "execution_count": 33,
     "metadata": {},
     "output_type": "execute_result"
    }
   ],
   "source": [
    "img_lab.shape, img_gray.shape"
   ]
  },
  {
   "cell_type": "code",
   "execution_count": 34,
   "metadata": {},
   "outputs": [],
   "source": [
    "from PIL import Image"
   ]
  },
  {
   "cell_type": "code",
   "execution_count": 35,
   "metadata": {},
   "outputs": [],
   "source": [
    "def get_rbg_from_lab(gray_imgs, ab_imgs, n = 10):\n",
    "    \n",
    "    #create an empty array to store images\n",
    "    imgs = np.zeros((n, 224, 224, 3))\n",
    "    \n",
    "    imgs[:, :, :, 0] = gray_imgs[0:n:]\n",
    "    imgs[:, :, :, 1:] = ab_imgs[0:n:]\n",
    "    \n",
    "    #convert all the images to type unit8\n",
    "    imgs = imgs.astype(\"uint8\")\n",
    "    \n",
    "    #create a new empty array\n",
    "    imgs_ = []\n",
    "    \n",
    "    for i in range(0, n):\n",
    "        imgs_.append(cv2.cvtColor(imgs[i], cv2.COLOR_LAB2RGB))\n",
    "    #convert the image matrix into a numpy array\n",
    "    imgs_ = np.array(imgs_)\n",
    "   \n",
    "    return imgs_"
   ]
  },
  {
   "cell_type": "code",
   "execution_count": 36,
   "metadata": {},
   "outputs": [],
   "source": [
    "rgb_imgs = get_rbg_from_lab(img_gray, img_lab, n=600)"
   ]
  },
  {
   "cell_type": "code",
   "execution_count": 43,
   "metadata": {},
   "outputs": [],
   "source": [
    "img = Image.fromarray(rgb_imgs[0])"
   ]
  },
  {
   "cell_type": "code",
   "execution_count": 1,
   "metadata": {},
   "outputs": [],
   "source": [
    "from model import Colorization_Model"
   ]
  },
  {
   "cell_type": "code",
   "execution_count": 2,
   "metadata": {},
   "outputs": [
    {
     "ename": "TypeError",
     "evalue": "Colorization_Model.__init__() missing 1 required positional argument: 'in_channels'",
     "output_type": "error",
     "traceback": [
      "\u001b[0;31m---------------------------------------------------------------------------\u001b[0m",
      "\u001b[0;31mTypeError\u001b[0m                                 Traceback (most recent call last)",
      "Cell \u001b[0;32mIn[2], line 1\u001b[0m\n\u001b[0;32m----> 1\u001b[0m model \u001b[39m=\u001b[39m Colorization_Model()\n\u001b[1;32m      2\u001b[0m saved_weights_path \u001b[39m=\u001b[39m \u001b[39m'\u001b[39m\u001b[39m./colorization_weights.pth\u001b[39m\u001b[39m'\u001b[39m\n\u001b[1;32m      3\u001b[0m loaded_state_dict \u001b[39m=\u001b[39m torch\u001b[39m.\u001b[39mload(saved_weights_path)\n",
      "\u001b[0;31mTypeError\u001b[0m: Colorization_Model.__init__() missing 1 required positional argument: 'in_channels'"
     ]
    }
   ],
   "source": [
    "model = Colorization_Model(3)\n",
    "saved_weights_path = './colorization_weights.pth'\n",
    "loaded_state_dict = torch.load(saved_weights_path)\n",
    "model.load_state_dict(loaded_state_dict)\n",
    "model.eval()"
   ]
  },
  {
   "cell_type": "code",
   "execution_count": null,
   "metadata": {},
   "outputs": [],
   "source": []
  }
 ],
 "metadata": {
  "kernelspec": {
   "display_name": "mlptorch",
   "language": "python",
   "name": "python3"
  },
  "language_info": {
   "codemirror_mode": {
    "name": "ipython",
    "version": 3
   },
   "file_extension": ".py",
   "mimetype": "text/x-python",
   "name": "python",
   "nbconvert_exporter": "python",
   "pygments_lexer": "ipython3",
   "version": "3.10.11"
  },
  "orig_nbformat": 4
 },
 "nbformat": 4,
 "nbformat_minor": 2
}
